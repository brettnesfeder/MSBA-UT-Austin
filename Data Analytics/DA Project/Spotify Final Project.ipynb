{
 "cells": [
  {
   "cell_type": "code",
   "execution_count": 2,
   "metadata": {},
   "outputs": [
    {
     "name": "stdout",
     "output_type": "stream",
     "text": [
      "Populating the interactive namespace from numpy and matplotlib\n"
     ]
    }
   ],
   "source": [
    "from pandas import Series, DataFrame\n",
    "import pandas as pd\n",
    "%pylab inline"
   ]
  },
  {
   "cell_type": "code",
   "execution_count": 3,
   "metadata": {},
   "outputs": [],
   "source": [
    "# Special packages\n",
    "import statsmodels.api as sm\n",
    "from patsy import dmatrices"
   ]
  },
  {
   "cell_type": "code",
   "execution_count": 4,
   "metadata": {},
   "outputs": [
    {
     "data": {
      "text/html": [
       "<div>\n",
       "<style scoped>\n",
       "    .dataframe tbody tr th:only-of-type {\n",
       "        vertical-align: middle;\n",
       "    }\n",
       "\n",
       "    .dataframe tbody tr th {\n",
       "        vertical-align: top;\n",
       "    }\n",
       "\n",
       "    .dataframe thead th {\n",
       "        text-align: right;\n",
       "    }\n",
       "</style>\n",
       "<table border=\"1\" class=\"dataframe\">\n",
       "  <thead>\n",
       "    <tr style=\"text-align: right;\">\n",
       "      <th></th>\n",
       "      <th>Unnamed: 0</th>\n",
       "      <th>title</th>\n",
       "      <th>artist</th>\n",
       "      <th>top genre</th>\n",
       "      <th>year</th>\n",
       "      <th>bpm</th>\n",
       "      <th>nrgy</th>\n",
       "      <th>dnce</th>\n",
       "      <th>dB</th>\n",
       "      <th>live</th>\n",
       "      <th>val</th>\n",
       "      <th>dur</th>\n",
       "      <th>acous</th>\n",
       "      <th>spch</th>\n",
       "      <th>pop</th>\n",
       "    </tr>\n",
       "  </thead>\n",
       "  <tbody>\n",
       "    <tr>\n",
       "      <th>0</th>\n",
       "      <td>1</td>\n",
       "      <td>Hey, Soul Sister</td>\n",
       "      <td>Train</td>\n",
       "      <td>neo mellow</td>\n",
       "      <td>2010</td>\n",
       "      <td>97</td>\n",
       "      <td>89</td>\n",
       "      <td>67</td>\n",
       "      <td>-4</td>\n",
       "      <td>8</td>\n",
       "      <td>80</td>\n",
       "      <td>217</td>\n",
       "      <td>19</td>\n",
       "      <td>4</td>\n",
       "      <td>83</td>\n",
       "    </tr>\n",
       "  </tbody>\n",
       "</table>\n",
       "</div>"
      ],
      "text/plain": [
       "   Unnamed: 0             title artist   top genre  year  bpm  nrgy  dnce  dB  \\\n",
       "0           1  Hey, Soul Sister  Train  neo mellow  2010   97    89    67  -4   \n",
       "\n",
       "   live  val  dur  acous  spch  pop  \n",
       "0     8   80  217     19     4   83  "
      ]
     },
     "execution_count": 4,
     "metadata": {},
     "output_type": "execute_result"
    }
   ],
   "source": [
    "spotify = pd.read_csv('spotifytop10s.csv',\n",
    "                     encoding='ISO-8859-1')\n",
    "spotify.head(1)"
   ]
  },
  {
   "cell_type": "code",
   "execution_count": 5,
   "metadata": {},
   "outputs": [
    {
     "data": {
      "text/plain": [
       "title\n",
       "Memories                    Maroon 5\n",
       "Lose You To Love Me     Selena Gomez\n",
       "Someone You Loved      Lewis Capaldi\n",
       "Señorita                Shawn Mendes\n",
       "How Do You Sleep?          Sam Smith\n",
       "Name: artist, dtype: object"
      ]
     },
     "execution_count": 5,
     "metadata": {},
     "output_type": "execute_result"
    }
   ],
   "source": [
    "sp = spotify.drop_duplicates(subset = 'title')\n",
    "#make title index\n",
    "spt = sp.set_index('title')\n",
    "spt = spt.drop(columns = ['Unnamed: 0'])\n",
    "#5 most popular songs\n",
    "spt.sort_values(by = 'pop', ascending = False).iloc[:5]['artist']"
   ]
  },
  {
   "cell_type": "markdown",
   "metadata": {},
   "source": [
    "Exploratory Analysis"
   ]
  },
  {
   "cell_type": "code",
   "execution_count": 6,
   "metadata": {},
   "outputs": [
    {
     "data": {
      "text/plain": [
       "<matplotlib.axes._subplots.AxesSubplot at 0x2017c5db288>"
      ]
     },
     "execution_count": 6,
     "metadata": {},
     "output_type": "execute_result"
    },
    {
     "data": {
      "image/png": "[encoded data removed]",
      "text/plain": [
       "<Figure size 432x288 with 1 Axes>"
      ]
     },
     "metadata": {
      "needs_background": "light"
     },
     "output_type": "display_data"
    }
   ],
   "source": [
    "sp['top genre'].value_counts()[:5].plot(kind = 'bar', color = 'orange')"
   ]
  },
  {
   "cell_type": "code",
   "execution_count": 7,
   "metadata": {},
   "outputs": [
    {
     "data": {
      "text/plain": [
       "<matplotlib.axes._subplots.AxesSubplot at 0x2017cd5a888>"
      ]
     },
     "execution_count": 7,
     "metadata": {},
     "output_type": "execute_result"
    },
    {
     "data": {
      "image/png": "[encoded data removed]",
      "text/plain": [
       "<Figure size 432x288 with 1 Axes>"
      ]
     },
     "metadata": {
      "needs_background": "light"
     },
     "output_type": "display_data"
    }
   ],
   "source": [
    "sp['artist'].value_counts()[:10].plot(kind = 'bar', color = 'green')"
   ]
  },
  {
   "cell_type": "code",
   "execution_count": 9,
   "metadata": {},
   "outputs": [],
   "source": [
    "#masks by year    \n",
    "mask10 = sp['year'] == 2010 \n",
    "mask11 = sp['year'] == 2011\n",
    "mask12 = sp['year'] == 2012\n",
    "mask13 = sp['year'] == 2013\n",
    "mask14 = sp['year'] == 2014\n",
    "mask15 = sp['year'] == 2015\n",
    "mask16 = sp['year'] == 2016\n",
    "mask17 = sp['year'] == 2017\n",
    "mask18 = sp['year'] == 2018\n",
    "mask19 = sp['year'] == 2019\n",
    "\n",
    "\n",
    "#spotify by year\n",
    "spot10 = sp[mask10]\n",
    "spot11 = sp[mask11]\n",
    "spot12 = sp[mask12]\n",
    "spot13 = sp[mask13]\n",
    "spot14 = sp[mask14]\n",
    "spot15 = sp[mask15]\n",
    "spot16 = sp[mask16]\n",
    "spot17 = sp[mask17]\n",
    "spot18 = sp[mask18]\n",
    "spot19 = sp[mask19]\n"
   ]
  },
  {
   "cell_type": "code",
   "execution_count": 10,
   "metadata": {
    "scrolled": false
   },
   "outputs": [
    {
     "data": {
      "text/plain": [
       "<matplotlib.axes._subplots.AxesSubplot at 0x2010ea8dd08>"
      ]
     },
     "execution_count": 10,
     "metadata": {},
     "output_type": "execute_result"
    },
    {
     "data": {
      "image/png": "[encoded data removed]",
      "text/plain": [
       "<Figure size 432x288 with 1 Axes>"
      ]
     },
     "metadata": {
      "needs_background": "light"
     },
     "output_type": "display_data"
    }
   ],
   "source": [
    "spot19['top genre'].value_counts()[:5].plot(kind = 'bar', color = 'orange')"
   ]
  },
  {
   "cell_type": "code",
   "execution_count": 11,
   "metadata": {},
   "outputs": [
    {
     "data": {
      "text/plain": [
       "<matplotlib.axes._subplots.AxesSubplot at 0x2010ee33f88>"
      ]
     },
     "execution_count": 11,
     "metadata": {},
     "output_type": "execute_result"
    },
    {
     "data": {
      "image/png": "[encoded data removed]",
      "text/plain": [
       "<Figure size 432x288 with 1 Axes>"
      ]
     },
     "metadata": {
      "needs_background": "light"
     },
     "output_type": "display_data"
    }
   ],
   "source": [
    "spot19['artist'].value_counts()[:10].plot(kind = 'bar', color = 'green')"
   ]
  },
  {
   "cell_type": "code",
   "execution_count": 12,
   "metadata": {},
   "outputs": [],
   "source": [
    "def get_pop(s):\n",
    "    if 'pop' in s:\n",
    "        return True\n",
    "    else: \n",
    "        return False\n",
    "pop_mask = sp['top genre'].map(get_pop)\n",
    "pop_spotify = sp[pop_mask]"
   ]
  },
  {
   "cell_type": "code",
   "execution_count": 13,
   "metadata": {},
   "outputs": [
    {
     "data": {
      "text/plain": [
       "0.7844112769485904"
      ]
     },
     "execution_count": 13,
     "metadata": {},
     "output_type": "execute_result"
    }
   ],
   "source": [
    "len(pop_spotify) / len(spotify)"
   ]
  },
  {
   "cell_type": "markdown",
   "metadata": {},
   "source": [
    "Solutions"
   ]
  },
  {
   "cell_type": "markdown",
   "metadata": {},
   "source": [
    "Linear Regression on Whole Dataset"
   ]
  },
  {
   "cell_type": "code",
   "execution_count": 14,
   "metadata": {},
   "outputs": [],
   "source": [
    "#y, X = dmatrices('pop ~ year + dnce + nrgy + bpm + dB + live + val + dur + acous + spch', data=sp, return_type='dataframe')\n",
    "#not significant -> bpm, val, acous, spch, live"
   ]
  },
  {
   "cell_type": "code",
   "execution_count": 15,
   "metadata": {},
   "outputs": [],
   "source": [
    "y, X = dmatrices('pop ~ dnce + nrgy + dB + dur', data=sp, return_type='dataframe')\n",
    "#dnce and dB are most positively significant, nrgy and duration most negatively significant, live not significant"
   ]
  },
  {
   "cell_type": "code",
   "execution_count": 16,
   "metadata": {},
   "outputs": [
    {
     "name": "stdout",
     "output_type": "stream",
     "text": [
      "                            OLS Regression Results                            \n",
      "==============================================================================\n",
      "Dep. Variable:                    pop   R-squared:                       0.070\n",
      "Model:                            OLS   Adj. R-squared:                  0.063\n",
      "Method:                 Least Squares   F-statistic:                     10.86\n",
      "Date:                Mon, 10 Aug 2020   Prob (F-statistic):           1.69e-08\n",
      "Time:                        17:08:55   Log-Likelihood:                -2374.2\n",
      "No. Observations:                 584   AIC:                             4758.\n",
      "Df Residuals:                     579   BIC:                             4780.\n",
      "Df Model:                           4                                         \n",
      "Covariance Type:            nonrobust                                         \n",
      "==============================================================================\n",
      "                 coef    std err          t      P>|t|      [0.025      0.975]\n",
      "------------------------------------------------------------------------------\n",
      "Intercept     90.5538      6.817     13.283      0.000      77.164     103.944\n",
      "dnce           0.0835      0.046      1.825      0.068      -0.006       0.173\n",
      "nrgy          -0.1884      0.043     -4.374      0.000      -0.273      -0.104\n",
      "dB             1.2860      0.250      5.141      0.000       0.795       1.777\n",
      "dur           -0.0406      0.018     -2.305      0.021      -0.075      -0.006\n",
      "==============================================================================\n",
      "Omnibus:                      172.410   Durbin-Watson:                   0.487\n",
      "Prob(Omnibus):                  0.000   Jarque-Bera (JB):              492.183\n",
      "Skew:                          -1.439   Prob(JB):                    1.33e-107\n",
      "Kurtosis:                       6.455   Cond. No.                     2.86e+03\n",
      "==============================================================================\n",
      "\n",
      "Warnings:\n",
      "[1] Standard Errors assume that the covariance matrix of the errors is correctly specified.\n",
      "[2] The condition number is large, 2.86e+03. This might indicate that there are\n",
      "strong multicollinearity or other numerical problems.\n",
      "Params\n",
      "Intercept    90.553838\n",
      "dnce          0.083536\n",
      "nrgy         -0.188399\n",
      "dB            1.286034\n",
      "dur          -0.040641\n",
      "dtype: float64\n",
      "R-squared = 0.06981801258374531\n",
      "P-values\n",
      "Intercept    2.462064e-35\n",
      "dnce         6.844730e-02\n",
      "nrgy         1.447509e-05\n",
      "dB           3.742529e-07\n",
      "dur          2.149928e-02\n",
      "dtype: float64\n"
     ]
    }
   ],
   "source": [
    "model = sm.OLS(y, X)\n",
    "result = model.fit()\n",
    "print(result.summary())\n",
    "print('Params')\n",
    "print(result.params)\n",
    "print\n",
    "print('R-squared =', result.rsquared)\n",
    "print('P-values')\n",
    "print(result.pvalues)"
   ]
  },
  {
   "cell_type": "markdown",
   "metadata": {},
   "source": [
    "Linear Regression on Pop"
   ]
  },
  {
   "cell_type": "code",
   "execution_count": 17,
   "metadata": {},
   "outputs": [],
   "source": [
    "#y, X = dmatrices('pop ~ dnce + nrgy + bpm + dB + live + val + dur + acous + spch', data=pop_spotify, return_type='dataframe')\n",
    "#not significant -> dnce, bpm, val, acous, spch"
   ]
  },
  {
   "cell_type": "code",
   "execution_count": 18,
   "metadata": {},
   "outputs": [],
   "source": [
    "y, X = dmatrices('pop ~ nrgy + dB + live + dur', data=pop_spotify, return_type='dataframe')"
   ]
  },
  {
   "cell_type": "code",
   "execution_count": 19,
   "metadata": {},
   "outputs": [
    {
     "name": "stdout",
     "output_type": "stream",
     "text": [
      "                            OLS Regression Results                            \n",
      "==============================================================================\n",
      "Dep. Variable:                    pop   R-squared:                       0.046\n",
      "Model:                            OLS   Adj. R-squared:                  0.038\n",
      "Method:                 Least Squares   F-statistic:                     5.629\n",
      "Date:                Mon, 10 Aug 2020   Prob (F-statistic):           0.000197\n",
      "Time:                        17:08:56   Log-Likelihood:                -1909.3\n",
      "No. Observations:                 473   AIC:                             3829.\n",
      "Df Residuals:                     468   BIC:                             3849.\n",
      "Df Model:                           4                                         \n",
      "Covariance Type:            nonrobust                                         \n",
      "==============================================================================\n",
      "                 coef    std err          t      P>|t|      [0.025      0.975]\n",
      "------------------------------------------------------------------------------\n",
      "Intercept     96.7582      7.472     12.949      0.000      82.074     111.442\n",
      "nrgy          -0.1707      0.055     -3.103      0.002      -0.279      -0.063\n",
      "dB             1.0016      0.531      1.888      0.060      -0.041       2.044\n",
      "live          -0.0891      0.049     -1.806      0.072      -0.186       0.008\n",
      "dur           -0.0505      0.020     -2.557      0.011      -0.089      -0.012\n",
      "==============================================================================\n",
      "Omnibus:                      145.719   Durbin-Watson:                   0.551\n",
      "Prob(Omnibus):                  0.000   Jarque-Bera (JB):              422.114\n",
      "Skew:                          -1.471   Prob(JB):                     2.18e-92\n",
      "Kurtosis:                       6.573   Cond. No.                     2.80e+03\n",
      "==============================================================================\n",
      "\n",
      "Warnings:\n",
      "[1] Standard Errors assume that the covariance matrix of the errors is correctly specified.\n",
      "[2] The condition number is large, 2.8e+03. This might indicate that there are\n",
      "strong multicollinearity or other numerical problems.\n",
      "Params\n",
      "Intercept    96.758153\n",
      "nrgy         -0.170736\n",
      "dB            1.001631\n",
      "live         -0.089052\n",
      "dur          -0.050498\n",
      "dtype: float64\n",
      "R-squared = 0.045901707514355405\n",
      "P-values\n",
      "Intercept    5.435529e-33\n",
      "nrgy         2.032899e-03\n",
      "dB           5.966837e-02\n",
      "live         7.154075e-02\n",
      "dur          1.086814e-02\n",
      "dtype: float64\n"
     ]
    }
   ],
   "source": [
    "model = sm.OLS(y, X)\n",
    "result = model.fit()\n",
    "print(result.summary())\n",
    "print('Params')\n",
    "print(result.params)\n",
    "print\n",
    "print('R-squared =', result.rsquared)\n",
    "print('P-values')\n",
    "print(result.pvalues)"
   ]
  },
  {
   "cell_type": "markdown",
   "metadata": {},
   "source": [
    "Linear Regression on 2019 Songs "
   ]
  },
  {
   "cell_type": "code",
   "execution_count": 20,
   "metadata": {},
   "outputs": [],
   "source": [
    "#y, X = dmatrices('pop ~ dnce + nrgy + bpm + dB + live + val + dur + acous + spch', data=spot19, return_type='dataframe')\n",
    "#not significant -> dnce, bpm, val, acous, spch"
   ]
  },
  {
   "cell_type": "code",
   "execution_count": 21,
   "metadata": {},
   "outputs": [],
   "source": [
    "y, X = dmatrices('pop ~ nrgy + dB + bpm', data=spot19, return_type='dataframe')"
   ]
  },
  {
   "cell_type": "code",
   "execution_count": 22,
   "metadata": {},
   "outputs": [
    {
     "name": "stdout",
     "output_type": "stream",
     "text": [
      "                            OLS Regression Results                            \n",
      "==============================================================================\n",
      "Dep. Variable:                    pop   R-squared:                       0.455\n",
      "Model:                            OLS   Adj. R-squared:                  0.395\n",
      "Method:                 Least Squares   F-statistic:                     7.517\n",
      "Date:                Mon, 10 Aug 2020   Prob (F-statistic):           0.000823\n",
      "Time:                        17:08:56   Log-Likelihood:                -99.645\n",
      "No. Observations:                  31   AIC:                             207.3\n",
      "Df Residuals:                      27   BIC:                             213.0\n",
      "Df Model:                           3                                         \n",
      "Covariance Type:            nonrobust                                         \n",
      "==============================================================================\n",
      "                 coef    std err          t      P>|t|      [0.025      0.975]\n",
      "------------------------------------------------------------------------------\n",
      "Intercept    145.3179     13.480     10.780      0.000     117.659     172.977\n",
      "nrgy          -0.4510      0.102     -4.431      0.000      -0.660      -0.242\n",
      "dB             3.3933      0.982      3.455      0.002       1.378       5.409\n",
      "bpm           -0.1083      0.061     -1.786      0.085      -0.233       0.016\n",
      "==============================================================================\n",
      "Omnibus:                        3.863   Durbin-Watson:                   1.083\n",
      "Prob(Omnibus):                  0.145   Jarque-Bera (JB):                2.123\n",
      "Skew:                          -0.385   Prob(JB):                        0.346\n",
      "Kurtosis:                       1.975   Cond. No.                     1.53e+03\n",
      "==============================================================================\n",
      "\n",
      "Warnings:\n",
      "[1] Standard Errors assume that the covariance matrix of the errors is correctly specified.\n",
      "[2] The condition number is large, 1.53e+03. This might indicate that there are\n",
      "strong multicollinearity or other numerical problems.\n",
      "Params\n",
      "Intercept    145.317883\n",
      "nrgy          -0.450956\n",
      "dB             3.393318\n",
      "bpm           -0.108257\n",
      "dtype: float64\n",
      "R-squared = 0.4551090205019819\n",
      "P-values\n",
      "Intercept    2.766833e-11\n",
      "nrgy         1.402928e-04\n",
      "dB           1.833947e-03\n",
      "bpm          8.538541e-02\n",
      "dtype: float64\n"
     ]
    }
   ],
   "source": [
    "model = sm.OLS(y, X)\n",
    "result = model.fit()\n",
    "print(result.summary())\n",
    "print('Params')\n",
    "print(result.params)\n",
    "print\n",
    "print('R-squared =', result.rsquared)\n",
    "print('P-values')\n",
    "print(result.pvalues)"
   ]
  },
  {
   "cell_type": "markdown",
   "metadata": {},
   "source": [
    "Logistic Regression on Whole dataset"
   ]
  },
  {
   "cell_type": "code",
   "execution_count": 51,
   "metadata": {},
   "outputs": [
    {
     "data": {
      "text/plain": [
       "Text(0, 0.5, 'Songs')"
      ]
     },
     "execution_count": 51,
     "metadata": {},
     "output_type": "execute_result"
    },
    {
     "data": {
      "image/png": "[encoded data removed]",
      "text/plain": [
       "<Figure size 432x288 with 1 Axes>"
      ]
     },
     "metadata": {
      "needs_background": "light"
     },
     "output_type": "display_data"
    }
   ],
   "source": [
    "spot_hist = sp['pop'].hist(bins=10, color = 'orange')\n",
    "spot_hist.set_xlabel(\"Popularity\")\n",
    "spot_hist.set_ylabel(\"Songs\")"
   ]
  },
  {
   "cell_type": "code",
   "execution_count": 24,
   "metadata": {},
   "outputs": [
    {
     "name": "stdout",
     "output_type": "stream",
     "text": [
      "69.0\n"
     ]
    }
   ],
   "source": [
    "print(sp['pop'].median())"
   ]
  },
  {
   "cell_type": "code",
   "execution_count": 25,
   "metadata": {},
   "outputs": [
    {
     "name": "stderr",
     "output_type": "stream",
     "text": [
      "C:\\Users\\16107\\anaconda3\\lib\\site-packages\\ipykernel_launcher.py:1: SettingWithCopyWarning: \n",
      "A value is trying to be set on a copy of a slice from a DataFrame.\n",
      "Try using .loc[row_indexer,col_indexer] = value instead\n",
      "\n",
      "See the caveats in the documentation: https://pandas.pydata.org/pandas-docs/stable/user_guide/indexing.html#returning-a-view-versus-a-copy\n",
      "  \"\"\"Entry point for launching an IPython kernel.\n",
      "C:\\Users\\16107\\anaconda3\\lib\\site-packages\\ipykernel_launcher.py:2: SettingWithCopyWarning: \n",
      "A value is trying to be set on a copy of a slice from a DataFrame\n",
      "\n",
      "See the caveats in the documentation: https://pandas.pydata.org/pandas-docs/stable/user_guide/indexing.html#returning-a-view-versus-a-copy\n",
      "  \n",
      "C:\\Users\\16107\\anaconda3\\lib\\site-packages\\pandas\\core\\generic.py:8767: SettingWithCopyWarning: \n",
      "A value is trying to be set on a copy of a slice from a DataFrame\n",
      "\n",
      "See the caveats in the documentation: https://pandas.pydata.org/pandas-docs/stable/user_guide/indexing.html#returning-a-view-versus-a-copy\n",
      "  self._update_inplace(new_data)\n"
     ]
    },
    {
     "data": {
      "text/plain": [
       "0.0    300\n",
       "1.0    284\n",
       "Name: target, dtype: int64"
      ]
     },
     "execution_count": 25,
     "metadata": {},
     "output_type": "execute_result"
    }
   ],
   "source": [
    "sp['target'] = 0.0\n",
    "sp['target'][sp['pop'] > 69] = 1.0 \n",
    "sp['target'].value_counts()"
   ]
  },
  {
   "cell_type": "code",
   "execution_count": 26,
   "metadata": {},
   "outputs": [],
   "source": [
    "log_formula = 'target ~ 0 + year + bpm + nrgy + dnce + dB + live + val + dur + acous + spch'"
   ]
  },
  {
   "cell_type": "code",
   "execution_count": 27,
   "metadata": {},
   "outputs": [],
   "source": [
    "Y, X = dmatrices(log_formula, sp, return_type='dataframe')\n",
    "y = Y['target'].values"
   ]
  },
  {
   "cell_type": "code",
   "execution_count": 28,
   "metadata": {},
   "outputs": [],
   "source": [
    "from sklearn.model_selection import train_test_split\n",
    "X_train, X_test, y_train, y_test = train_test_split(X, y, test_size=0.3, random_state=1)"
   ]
  },
  {
   "cell_type": "code",
   "execution_count": 29,
   "metadata": {},
   "outputs": [
    {
     "name": "stderr",
     "output_type": "stream",
     "text": [
      "C:\\Users\\16107\\anaconda3\\lib\\site-packages\\sklearn\\linear_model\\_logistic.py:940: ConvergenceWarning: lbfgs failed to converge (status=1):\n",
      "STOP: TOTAL NO. of ITERATIONS REACHED LIMIT.\n",
      "\n",
      "Increase the number of iterations (max_iter) or scale the data as shown in:\n",
      "    https://scikit-learn.org/stable/modules/preprocessing.html\n",
      "Please also refer to the documentation for alternative solver options:\n",
      "    https://scikit-learn.org/stable/modules/linear_model.html#logistic-regression\n",
      "  extra_warning_msg=_LOGISTIC_SOLVER_CONVERGENCE_MSG)\n"
     ]
    }
   ],
   "source": [
    "from sklearn.linear_model import LogisticRegression\n",
    "model = LogisticRegression()\n",
    "result = model.fit(X_train, y_train)"
   ]
  },
  {
   "cell_type": "code",
   "execution_count": 30,
   "metadata": {},
   "outputs": [
    {
     "name": "stdout",
     "output_type": "stream",
     "text": [
      "0.5686274509803921\n"
     ]
    }
   ],
   "source": [
    "from sklearn import metrics\n",
    "\n",
    "prediction_train = model.predict(X_train)\n",
    "print(metrics.accuracy_score(y_train, prediction_train))"
   ]
  },
  {
   "cell_type": "code",
   "execution_count": 31,
   "metadata": {},
   "outputs": [
    {
     "name": "stdout",
     "output_type": "stream",
     "text": [
      "0.5397727272727273\n"
     ]
    }
   ],
   "source": [
    "prediction = model.predict(X_test)\n",
    "print(metrics.accuracy_score(y_test, prediction))"
   ]
  },
  {
   "cell_type": "code",
   "execution_count": 32,
   "metadata": {},
   "outputs": [
    {
     "name": "stdout",
     "output_type": "stream",
     "text": [
      "Number of positive examples = 188\n",
      "Number of negative examples = 220\n"
     ]
    }
   ],
   "source": [
    "# y_train is 0 or 1.\n",
    "print('Number of positive examples =', len(y_train[y_train==1]))\n",
    "print('Number of negative examples =', len(y_train[y_train==0]))"
   ]
  },
  {
   "cell_type": "code",
   "execution_count": 33,
   "metadata": {},
   "outputs": [
    {
     "name": "stdout",
     "output_type": "stream",
     "text": [
      "Number of examples where baseline is correct = 80\n",
      "Baseline accuracy = 0.45454545454545453\n"
     ]
    }
   ],
   "source": [
    "negative_examples_in_test = len(y_test[y_test==0])\n",
    "total_examples_in_test = len(y_test)\n",
    "\n",
    "print('Number of examples where baseline is correct =', negative_examples_in_test)\n",
    "print('Baseline accuracy =', negative_examples_in_test * 1.0 / total_examples_in_test)"
   ]
  },
  {
   "cell_type": "code",
   "execution_count": 34,
   "metadata": {},
   "outputs": [
    {
     "data": {
      "text/plain": [
       "nrgy    -0.020507\n",
       "live    -0.007350\n",
       "dur     -0.006248\n",
       "acous   -0.004353\n",
       "val      0.000466\n",
       "year     0.001138\n",
       "bpm      0.001622\n",
       "dnce     0.008982\n",
       "spch     0.018994\n",
       "dB       0.065431\n",
       "dtype: float64"
      ]
     },
     "execution_count": 34,
     "metadata": {},
     "output_type": "execute_result"
    }
   ],
   "source": [
    "weights = Series(model.coef_[0],\n",
    "                index=X.columns.values)\n",
    "weights.sort_values()"
   ]
  },
  {
   "cell_type": "code",
   "execution_count": 35,
   "metadata": {},
   "outputs": [],
   "source": [
    "from sklearn.cluster import KMeans\n",
    "model = KMeans(n_clusters=5, random_state=1)"
   ]
  },
  {
   "cell_type": "code",
   "execution_count": 36,
   "metadata": {},
   "outputs": [
    {
     "data": {
      "text/plain": [
       "220.0"
      ]
     },
     "execution_count": 36,
     "metadata": {},
     "output_type": "execute_result"
    }
   ],
   "source": [
    "sp['dur'].median()"
   ]
  },
  {
   "cell_type": "code",
   "execution_count": 37,
   "metadata": {},
   "outputs": [
    {
     "data": {
      "text/plain": [
       "KMeans(algorithm='auto', copy_x=True, init='k-means++', max_iter=300,\n",
       "       n_clusters=5, n_init=10, n_jobs=None, precompute_distances='auto',\n",
       "       random_state=1, tol=0.0001, verbose=0)"
      ]
     },
     "execution_count": 37,
     "metadata": {},
     "output_type": "execute_result"
    }
   ],
   "source": [
    "model.fit(X, y)"
   ]
  },
  {
   "cell_type": "code",
   "execution_count": 38,
   "metadata": {},
   "outputs": [],
   "source": [
    "Y, X = dmatrices('target ~ 0 + year + dnce + nrgy + bpm + dB + live + val + dur + acous + spch', data=sp, return_type='dataframe')\n",
    "y = Y['target'].values"
   ]
  },
  {
   "cell_type": "code",
   "execution_count": 39,
   "metadata": {},
   "outputs": [],
   "source": [
    "from sklearn.model_selection import train_test_split\n",
    "X_train, X_test, y_train, y_test = train_test_split(X, y, test_size=0.3, random_state=1)"
   ]
  },
  {
   "cell_type": "code",
   "execution_count": 62,
   "metadata": {},
   "outputs": [],
   "source": [
    "from sklearn import tree\n",
    "model = tree.DecisionTreeClassifier(criterion='entropy', max_depth = 4)"
   ]
  },
  {
   "cell_type": "code",
   "execution_count": 63,
   "metadata": {},
   "outputs": [],
   "source": [
    "result = model.fit(X_train, y_train)"
   ]
  },
  {
   "cell_type": "code",
   "execution_count": 64,
   "metadata": {},
   "outputs": [
    {
     "name": "stdout",
     "output_type": "stream",
     "text": [
      "0.5931372549019608\n"
     ]
    }
   ],
   "source": [
    "from sklearn import metrics\n",
    "\n",
    "prediction_train = model.predict(X_train)\n",
    "print(metrics.accuracy_score(y_train, prediction_train))"
   ]
  },
  {
   "cell_type": "code",
   "execution_count": 65,
   "metadata": {},
   "outputs": [
    {
     "name": "stdout",
     "output_type": "stream",
     "text": [
      "0.5795454545454546\n"
     ]
    }
   ],
   "source": [
    "prediction = model.predict(X_test)\n",
    "print(metrics.accuracy_score(y_test, prediction))"
   ]
  }
 ],
 "metadata": {
  "kernelspec": {
   "display_name": "Python 3",
   "language": "python",
   "name": "python3"
  },
  "language_info": {
   "codemirror_mode": {
    "name": "ipython",
    "version": 3
   },
   "file_extension": ".py",
   "mimetype": "text/x-python",
   "name": "python",
   "nbconvert_exporter": "python",
   "pygments_lexer": "ipython3",
   "version": "3.7.6"
  }
 },
 "nbformat": 4,
 "nbformat_minor": 4
}
