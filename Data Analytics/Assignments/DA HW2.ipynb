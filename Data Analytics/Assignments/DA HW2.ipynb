{
 "cells": [
  {
   "cell_type": "code",
   "execution_count": 1,
   "metadata": {},
   "outputs": [
    {
     "name": "stdout",
     "output_type": "stream",
     "text": [
      "Populating the interactive namespace from numpy and matplotlib\n"
     ]
    },
    {
     "data": {
      "text/html": [
       "<div>\n",
       "<style scoped>\n",
       "    .dataframe tbody tr th:only-of-type {\n",
       "        vertical-align: middle;\n",
       "    }\n",
       "\n",
       "    .dataframe tbody tr th {\n",
       "        vertical-align: top;\n",
       "    }\n",
       "\n",
       "    .dataframe thead th {\n",
       "        text-align: right;\n",
       "    }\n",
       "</style>\n",
       "<table border=\"1\" class=\"dataframe\">\n",
       "  <thead>\n",
       "    <tr style=\"text-align: right;\">\n",
       "      <th></th>\n",
       "      <th>CAMIS</th>\n",
       "      <th>DBA</th>\n",
       "      <th>BORO</th>\n",
       "      <th>BUILDING</th>\n",
       "      <th>STREET</th>\n",
       "      <th>ZIPCODE</th>\n",
       "      <th>PHONE</th>\n",
       "      <th>CUISINE DESCRIPTION</th>\n",
       "      <th>INSPECTION DATE</th>\n",
       "      <th>ACTION</th>\n",
       "      <th>VIOLATION CODE</th>\n",
       "      <th>VIOLATION DESCRIPTION</th>\n",
       "      <th>CRITICAL FLAG</th>\n",
       "      <th>SCORE</th>\n",
       "      <th>GRADE</th>\n",
       "      <th>GRADE DATE</th>\n",
       "      <th>RECORD DATE</th>\n",
       "      <th>INSPECTION TYPE</th>\n",
       "    </tr>\n",
       "  </thead>\n",
       "  <tbody>\n",
       "    <tr>\n",
       "      <th>0</th>\n",
       "      <td>30112340</td>\n",
       "      <td>WENDY'S</td>\n",
       "      <td>BROOKLYN</td>\n",
       "      <td>469</td>\n",
       "      <td>FLATBUSH AVENUE</td>\n",
       "      <td>11225</td>\n",
       "      <td>7182875005</td>\n",
       "      <td>Hamburgers</td>\n",
       "      <td>12/30/2014</td>\n",
       "      <td>Violations were cited in the following area(s).</td>\n",
       "      <td>06C</td>\n",
       "      <td>Food not protected from potential source of co...</td>\n",
       "      <td>Critical</td>\n",
       "      <td>8</td>\n",
       "      <td>A</td>\n",
       "      <td>12/30/2014</td>\n",
       "      <td>02/12/2015</td>\n",
       "      <td>Cycle Inspection / Re-inspection</td>\n",
       "    </tr>\n",
       "  </tbody>\n",
       "</table>\n",
       "</div>"
      ],
      "text/plain": [
       "      CAMIS      DBA      BORO BUILDING           STREET ZIPCODE       PHONE  \\\n",
       "0  30112340  WENDY'S  BROOKLYN      469  FLATBUSH AVENUE   11225  7182875005   \n",
       "\n",
       "  CUISINE DESCRIPTION INSPECTION DATE  \\\n",
       "0          Hamburgers      12/30/2014   \n",
       "\n",
       "                                            ACTION VIOLATION CODE  \\\n",
       "0  Violations were cited in the following area(s).            06C   \n",
       "\n",
       "                               VIOLATION DESCRIPTION CRITICAL FLAG SCORE  \\\n",
       "0  Food not protected from potential source of co...      Critical     8   \n",
       "\n",
       "  GRADE  GRADE DATE RECORD DATE                   INSPECTION TYPE  \n",
       "0     A  12/30/2014  02/12/2015  Cycle Inspection / Re-inspection  "
      ]
     },
     "execution_count": 1,
     "metadata": {},
     "output_type": "execute_result"
    }
   ],
   "source": [
    "from pandas import Series, DataFrame\n",
    "import pandas as pd\n",
    "%pylab inline\n",
    "\n",
    "df = pd.read_csv('NYC_Restaurants.csv', dtype=str, index_col=0)\n",
    "df.head(1)"
   ]
  },
  {
   "cell_type": "markdown",
   "metadata": {},
   "source": [
    "#### Q1"
   ]
  },
  {
   "cell_type": "code",
   "execution_count": 2,
   "metadata": {},
   "outputs": [
    {
     "name": "stdout",
     "output_type": "stream",
     "text": [
      "0           WENDY'S 469 FLATBUSH AVENUE 11225 BROOKLYN\n",
      "1           WENDY'S 469 FLATBUSH AVENUE 11225 BROOKLYN\n",
      "2           WENDY'S 469 FLATBUSH AVENUE 11225 BROOKLYN\n",
      "3           WENDY'S 469 FLATBUSH AVENUE 11225 BROOKLYN\n",
      "4           WENDY'S 469 FLATBUSH AVENUE 11225 BROOKLYN\n",
      "5        TOV KOSHER KITCHEN 97-22 63 ROAD 11374 QUEENS\n",
      "6        TOV KOSHER KITCHEN 97-22 63 ROAD 11374 QUEENS\n",
      "7        TOV KOSHER KITCHEN 97-22 63 ROAD 11374 QUEENS\n",
      "8        TOV KOSHER KITCHEN 97-22 63 ROAD 11374 QUEENS\n",
      "9    BRUNOS ON THE BOULEVARD 8825 ASTORIA BOULEVARD...\n",
      "Name: RESTAURANT, dtype: object\n"
     ]
    }
   ],
   "source": [
    "#new column with spaces in between\n",
    "df['RESTAURANT'] = df['DBA'] + \" \" + df['BUILDING'] + \" \" + df['STREET'] + \" \" + df['ZIPCODE'] + \" \" + df['BORO']\n",
    "\n",
    "#prints the last column of the table and the first 10 rows\n",
    "print(df['RESTAURANT'][:10])"
   ]
  },
  {
   "cell_type": "markdown",
   "metadata": {},
   "source": [
    "#### Q2"
   ]
  },
  {
   "cell_type": "code",
   "execution_count": 3,
   "metadata": {},
   "outputs": [
    {
     "data": {
      "text/plain": [
       "10114"
      ]
     },
     "execution_count": 3,
     "metadata": {},
     "output_type": "execute_result"
    }
   ],
   "source": [
    "restaurant_count = df['RESTAURANT'].value_counts()\n",
    "len(restaurant_count)"
   ]
  },
  {
   "cell_type": "markdown",
   "metadata": {},
   "source": [
    "#### Q3"
   ]
  },
  {
   "cell_type": "code",
   "execution_count": 4,
   "metadata": {},
   "outputs": [
    {
     "data": {
      "text/plain": [
       "368"
      ]
     },
     "execution_count": 4,
     "metadata": {},
     "output_type": "execute_result"
    }
   ],
   "source": [
    "# extract DBA and RESTAURANT and combine them\n",
    "DBA_restaurant = df[['DBA','RESTAURANT']]\n",
    "# drop duplicate records for each restaurant\n",
    "DBA = DBA_restaurant.drop_duplicates(subset='RESTAURANT')\n",
    "# count the addresses for each DBA \n",
    "DBA_count = DBA['DBA'].value_counts()\n",
    "# filter the chains\n",
    "chain = DBA_count[DBA_count > 1]\n",
    "len(chain)"
   ]
  },
  {
   "cell_type": "markdown",
   "metadata": {},
   "source": [
    "#### Q4"
   ]
  },
  {
   "cell_type": "code",
   "execution_count": 5,
   "metadata": {
    "scrolled": true
   },
   "outputs": [
    {
     "data": {
      "text/plain": [
       "<matplotlib.axes._subplots.AxesSubplot at 0x1208d0c50>"
      ]
     },
     "execution_count": 5,
     "metadata": {},
     "output_type": "execute_result"
    },
    {
     "data": {
      "image/png": "[encoded data removed]",
      "text/plain": [
       "<Figure size 432x288 with 1 Axes>"
      ]
     },
     "metadata": {
      "needs_background": "light"
     },
     "output_type": "display_data"
    }
   ],
   "source": [
    "chain[:20].plot(kind='bar')"
   ]
  },
  {
   "cell_type": "markdown",
   "metadata": {},
   "source": [
    "#### Q5 the number of chain restaurants divided by total number of restaurants"
   ]
  },
  {
   "cell_type": "code",
   "execution_count": 6,
   "metadata": {},
   "outputs": [
    {
     "data": {
      "text/plain": [
       "0.16472216729286138"
      ]
     },
     "execution_count": 6,
     "metadata": {},
     "output_type": "execute_result"
    }
   ],
   "source": [
    "# Out of all brand, % of brand that are chain \n",
    "# fraction = len(chain) / len(DBA_count) \n",
    "# fraction\n",
    "\n",
    "# Out of all resturant, % of resturant that is chain-resturant\n",
    "chain.sum()/DBA_count.sum()"
   ]
  },
  {
   "cell_type": "markdown",
   "metadata": {},
   "source": [
    "#### Q6"
   ]
  },
  {
   "cell_type": "code",
   "execution_count": 7,
   "metadata": {
    "scrolled": false
   },
   "outputs": [
    {
     "name": "stderr",
     "output_type": "stream",
     "text": [
      "/opt/anaconda3/lib/python3.7/site-packages/pandas/core/indexing.py:670: SettingWithCopyWarning: \n",
      "A value is trying to be set on a copy of a slice from a DataFrame\n",
      "\n",
      "See the caveats in the documentation: https://pandas.pydata.org/pandas-docs/stable/user_guide/indexing.html#returning-a-view-versus-a-copy\n",
      "  self._setitem_with_indexer(indexer, value)\n",
      "/opt/anaconda3/lib/python3.7/site-packages/ipykernel_launcher.py:8: SettingWithCopyWarning: \n",
      "A value is trying to be set on a copy of a slice from a DataFrame\n",
      "\n",
      "See the caveats in the documentation: https://pandas.pydata.org/pandas-docs/stable/user_guide/indexing.html#returning-a-view-versus-a-copy\n",
      "  \n"
     ]
    },
    {
     "data": {
      "text/plain": [
       "<matplotlib.axes._subplots.AxesSubplot at 0x11fe3ed10>"
      ]
     },
     "execution_count": 7,
     "metadata": {},
     "output_type": "execute_result"
    },
    {
     "data": {
      "image/png": "[encoded data removed]",
      "text/plain": [
       "<Figure size 432x288 with 1 Axes>"
      ]
     },
     "metadata": {
      "needs_background": "light"
     },
     "output_type": "display_data"
    }
   ],
   "source": [
    "# drop duplicates from the new combined df\n",
    "DBA_BORO_RESTAURANT = df[['DBA','BORO','RESTAURANT']].drop_duplicates(subset='RESTAURANT')\n",
    "# figure out all non-chain restaurants\n",
    "non_chain_count = DBA_count[DBA_count == 1]\n",
    "non_chain = DBA_BORO_RESTAURANT[DBA_BORO_RESTAURANT['DBA'].isin(non_chain_count.index)]\n",
    "# set missing values to NaN so that they are not counted.\n",
    "mask = (non_chain['BORO'] == 'Missing')\n",
    "non_chain.loc[mask, 'BORO'] = np.nan \n",
    "# plot non-chain restaurants in each boro\n",
    "non_chain['BORO'].value_counts().plot(kind='bar')"
   ]
  },
  {
   "cell_type": "markdown",
   "metadata": {},
   "source": [
    "#### Q7"
   ]
  },
  {
   "cell_type": "code",
   "execution_count": 24,
   "metadata": {},
   "outputs": [
    {
     "data": {
      "image/png": "[encoded data removed]",
      "text/plain": [
       "<Figure size 432x288 with 1 Axes>"
      ]
     },
     "metadata": {
      "needs_background": "light"
     },
     "output_type": "display_data"
    },
    {
     "name": "stdout",
     "output_type": "stream",
     "text": [
      "The boro with the most independent restaurants is NOT the one with the highest ratio of independent restaurants.\n"
     ]
    }
   ],
   "source": [
    "# Retrive two value_count() series, and divide them for ploting.\n",
    "nonChainCountByBORO = non_chain['BORO'].value_counts()\n",
    "allResturantCountByBORO = DBA_BORO_RESTAURANT['BORO'].value_counts()\n",
    "\n",
    "# receive divided value in new series\n",
    "nonChainFractionByBORO = nonChainCountByBORO.divide(allResturantCountByBORO)\n",
    "# plot \n",
    "nonChainFractionByBORO.sort_values().drop(labels='Missing').plot(kind='bar',title='Q7 Independent Restaurant Fraction by BORO')\n",
    "plt.show()\n",
    "# 'BROOKLYN has the highest ratio of independent restaurants.'\n",
    "print(\"The boro with the most independent restaurants is NOT the one with the highest ratio of independent restaurants.\")\n"
   ]
  },
  {
   "cell_type": "markdown",
   "metadata": {},
   "source": [
    "#### Q8"
   ]
  },
  {
   "cell_type": "code",
   "execution_count": 9,
   "metadata": {},
   "outputs": [
    {
     "data": {
      "text/plain": [
       "<matplotlib.axes._subplots.AxesSubplot at 0x11fdcc950>"
      ]
     },
     "execution_count": 9,
     "metadata": {},
     "output_type": "execute_result"
    },
    {
     "data": {
      "image/png": "[encoded data removed]",
      "text/plain": [
       "<Figure size 432x288 with 1 Axes>"
      ]
     },
     "metadata": {
      "needs_background": "light"
     },
     "output_type": "display_data"
    }
   ],
   "source": [
    "resturant_cuisine = df[['CUISINE DESCRIPTION','RESTAURANT']].drop_duplicates('RESTAURANT')\n",
    "\n",
    "resturantCuisineCount = resturant_cuisine['CUISINE DESCRIPTION'].value_counts()\n",
    "# plot the top 20 popular cuisine\n",
    "resturantCuisineCount[:20].plot(kind='bar', title='Q8 Top 20 Popular Cuisine')"
   ]
  },
  {
   "cell_type": "markdown",
   "metadata": {},
   "source": [
    "#### Q9"
   ]
  },
  {
   "cell_type": "code",
   "execution_count": 10,
   "metadata": {
    "scrolled": true
   },
   "outputs": [
    {
     "data": {
      "text/plain": [
       "<matplotlib.axes._subplots.AxesSubplot at 0x11fdc0a10>"
      ]
     },
     "execution_count": 10,
     "metadata": {},
     "output_type": "execute_result"
    },
    {
     "data": {
      "image/png": "[encoded data removed]",
      "text/plain": [
       "<Figure size 432x288 with 1 Axes>"
      ]
     },
     "metadata": {
      "needs_background": "light"
     },
     "output_type": "display_data"
    }
   ],
   "source": [
    "resturant_cusine_violation = df[['VIOLATION CODE','CUISINE DESCRIPTION','RESTAURANT']].drop_duplicates('RESTAURANT')\n",
    "# find all restaurant that passed inspection\n",
    "q9Mask = resturant_cusine_violation['VIOLATION CODE'].isnull()\n",
    "q9_nonViolationRest = resturant_cusine_violation[q9Mask]\n",
    "# Plot the healthy cuisine\n",
    "non_violation_resturant = q9_nonViolationRest['CUISINE DESCRIPTION'].value_counts()\n",
    "non_violation_resturant[:20].plot(kind='bar', title='Q9 Top 20 Clean Cuisine')"
   ]
  },
  {
   "cell_type": "markdown",
   "metadata": {},
   "source": [
    "#### Q10"
   ]
  },
  {
   "cell_type": "code",
   "execution_count": 11,
   "metadata": {},
   "outputs": [
    {
     "data": {
      "text/plain": [
       "Vietnamese/Cambodian/Malaysia    0.093750\n",
       "Soul Food                        0.090909\n",
       "Other                            0.067961\n",
       "Irish                            0.057143\n",
       "Asian                            0.047945\n",
       "Soups & Sandwiches               0.047619\n",
       "Barbecue                         0.047619\n",
       "Continental                      0.047619\n",
       "Chinese                          0.042805\n",
       "Delicatessen                     0.039216\n",
       "Name: CUISINE DESCRIPTION, dtype: float64"
      ]
     },
     "execution_count": 11,
     "metadata": {},
     "output_type": "execute_result"
    }
   ],
   "source": [
    "popular_cuisine_resturants = resturantCuisineCount[resturantCuisineCount>20]\n",
    "ratio_clean_resturant_by_cuisine = non_violation_resturant / popular_cuisine_resturants\n",
    "ratio_clean_resturant_by_cuisine.dropna().sort_values(ascending=False)[:10]"
   ]
  },
  {
   "cell_type": "markdown",
   "metadata": {},
   "source": [
    "#### Q11"
   ]
  },
  {
   "cell_type": "code",
   "execution_count": 12,
   "metadata": {},
   "outputs": [
    {
     "data": {
      "text/plain": [
       "BORO\n",
       "BRONX            Non-food contact surface improperly constructe...\n",
       "BROOKLYN         Non-food contact surface improperly constructe...\n",
       "MANHATTAN        Non-food contact surface improperly constructe...\n",
       "QUEENS           Non-food contact surface improperly constructe...\n",
       "STATEN ISLAND    Non-food contact surface improperly constructe...\n",
       "dtype: object"
      ]
     },
     "execution_count": 12,
     "metadata": {},
     "output_type": "execute_result"
    }
   ],
   "source": [
    "violations_boro = df[['VIOLATION DESCRIPTION', 'BORO']]\n",
    "cross_tbl = pd.crosstab(violations_boro['BORO'],violations_boro['VIOLATION DESCRIPTION'])\n",
    "cross_tbl.idxmax(axis=1).drop(labels='Missing')"
   ]
  },
  {
   "cell_type": "markdown",
   "metadata": {},
   "source": [
    "#### Q12"
   ]
  },
  {
   "cell_type": "code",
   "execution_count": 13,
   "metadata": {},
   "outputs": [
    {
     "data": {
      "text/plain": [
       "BORO\n",
       "BRONX                                  Unprotected food re-served.\n",
       "BROOKLYN         Precooked potentially hazardous food from comm...\n",
       "MANHATTAN        Out-of package sale of tobacco products observed.\n",
       "QUEENS           Caloric content range (minimum to maximum) not...\n",
       "STATEN ISLAND    Eggs found dirty/cracked; liquid, frozen or po...\n",
       "dtype: object"
      ]
     },
     "execution_count": 13,
     "metadata": {},
     "output_type": "execute_result"
    }
   ],
   "source": [
    "violationFrequency = df['VIOLATION DESCRIPTION'].value_counts()\n",
    "cross_tbl.divide(violationFrequency).idxmax(axis=1).drop(labels='Missing')"
   ]
  },
  {
   "cell_type": "markdown",
   "metadata": {},
   "source": [
    "#### Q13"
   ]
  },
  {
   "cell_type": "code",
   "execution_count": 17,
   "metadata": {},
   "outputs": [
    {
     "data": {
      "text/plain": [
       "34"
      ]
     },
     "execution_count": 17,
     "metadata": {},
     "output_type": "execute_result"
    }
   ],
   "source": [
    "#first 3 digits of phone number\n",
    "df['AREACODE'] = df['PHONE'].str[:3]\n",
    "#combine with zipcode\n",
    "area_zip = df[['AREACODE', 'ZIPCODE']].drop_duplicates()\n",
    "# Each area code, count its zipcode\n",
    "areacode_zipcount = area_zip.groupby('AREACODE').count().reset_index()\n",
    "mask = (areacode_zipcount['ZIPCODE']==1)\n",
    "# show the number of arecode that exists in only one zipcode\n",
    "len(areacode_zipcount[mask])"
   ]
  },
  {
   "cell_type": "markdown",
   "metadata": {},
   "source": [
    "#### Q14"
   ]
  },
  {
   "cell_type": "code",
   "execution_count": 22,
   "metadata": {},
   "outputs": [
    {
     "data": {
      "text/html": [
       "<div>\n",
       "<style scoped>\n",
       "    .dataframe tbody tr th:only-of-type {\n",
       "        vertical-align: middle;\n",
       "    }\n",
       "\n",
       "    .dataframe tbody tr th {\n",
       "        vertical-align: top;\n",
       "    }\n",
       "\n",
       "    .dataframe thead th {\n",
       "        text-align: right;\n",
       "    }\n",
       "</style>\n",
       "<table border=\"1\" class=\"dataframe\">\n",
       "  <thead>\n",
       "    <tr style=\"text-align: right;\">\n",
       "      <th></th>\n",
       "      <th>STREET TYPE_one</th>\n",
       "      <th>STREET BASE_one</th>\n",
       "      <th>STREET BASE &amp; ZIP</th>\n",
       "      <th>STREET TYPE_two</th>\n",
       "      <th>STREET BASE_two</th>\n",
       "    </tr>\n",
       "  </thead>\n",
       "  <tbody>\n",
       "    <tr>\n",
       "      <th>0</th>\n",
       "      <td>AVENUE</td>\n",
       "      <td>FLATBUSH</td>\n",
       "      <td>FLATBUSH 11225</td>\n",
       "      <td>AVENUE</td>\n",
       "      <td>FLATBUSH</td>\n",
       "    </tr>\n",
       "    <tr>\n",
       "      <th>1</th>\n",
       "      <td>AVENUE</td>\n",
       "      <td>FLATBUSH</td>\n",
       "      <td>FLATBUSH 11225</td>\n",
       "      <td>AVE</td>\n",
       "      <td>FLATBUSH</td>\n",
       "    </tr>\n",
       "    <tr>\n",
       "      <th>2</th>\n",
       "      <td>AVE</td>\n",
       "      <td>FLATBUSH</td>\n",
       "      <td>FLATBUSH 11225</td>\n",
       "      <td>AVENUE</td>\n",
       "      <td>FLATBUSH</td>\n",
       "    </tr>\n",
       "    <tr>\n",
       "      <th>3</th>\n",
       "      <td>AVE</td>\n",
       "      <td>FLATBUSH</td>\n",
       "      <td>FLATBUSH 11225</td>\n",
       "      <td>AVE</td>\n",
       "      <td>FLATBUSH</td>\n",
       "    </tr>\n",
       "    <tr>\n",
       "      <th>4</th>\n",
       "      <td>ROAD</td>\n",
       "      <td>63</td>\n",
       "      <td>63 11374</td>\n",
       "      <td>ROAD</td>\n",
       "      <td>63</td>\n",
       "    </tr>\n",
       "  </tbody>\n",
       "</table>\n",
       "</div>"
      ],
      "text/plain": [
       "  STREET TYPE_one STREET BASE_one STREET BASE & ZIP STREET TYPE_two  \\\n",
       "0          AVENUE        FLATBUSH    FLATBUSH 11225          AVENUE   \n",
       "1          AVENUE        FLATBUSH    FLATBUSH 11225             AVE   \n",
       "2             AVE        FLATBUSH    FLATBUSH 11225          AVENUE   \n",
       "3             AVE        FLATBUSH    FLATBUSH 11225             AVE   \n",
       "4            ROAD              63          63 11374            ROAD   \n",
       "\n",
       "  STREET BASE_two  \n",
       "0        FLATBUSH  \n",
       "1        FLATBUSH  \n",
       "2        FLATBUSH  \n",
       "3        FLATBUSH  \n",
       "4              63  "
      ]
     },
     "execution_count": 22,
     "metadata": {},
     "output_type": "execute_result"
    }
   ],
   "source": [
    "#create street type column \n",
    "df['STREET TYPE'] = df['STREET'].str.split().str[-1]\n",
    "#create street base column\n",
    "street_base = df['STREET'].str.split().str[:-1]\n",
    "def join_str(x):\n",
    "    return(' '.join(x))\n",
    "df['STREET BASE'] = street_base.map(join_str)\n",
    "#create street base & zip column \n",
    "df['STREET BASE & ZIP'] = df['STREET BASE'] + ' ' + df['ZIPCODE']\n",
    "#create table containing these three columns , and clean duplicate\n",
    "df['STREET BASE'].replace('', np.nan, inplace=True)\n",
    "df.dropna(subset = ['STREET BASE'], inplace=True)\n",
    "street_zip = df[['STREET TYPE', 'STREET BASE', 'STREET BASE & ZIP']]\n",
    "street_zip_clean = street_zip.drop_duplicates()\n",
    "\n",
    "#merge table with itself \n",
    "merge_street_zip = street_zip_clean.merge(street_zip_clean,\n",
    "                                         left_on ='STREET BASE & ZIP',\n",
    "                                         right_on = 'STREET BASE & ZIP',\n",
    "                                          suffixes=['_one', '_two'])\n",
    "merge_street_zip[:5]\n"
   ]
  },
  {
   "cell_type": "code",
   "execution_count": 23,
   "metadata": {},
   "outputs": [
    {
     "data": {
      "text/html": [
       "<div>\n",
       "<style scoped>\n",
       "    .dataframe tbody tr th:only-of-type {\n",
       "        vertical-align: middle;\n",
       "    }\n",
       "\n",
       "    .dataframe tbody tr th {\n",
       "        vertical-align: top;\n",
       "    }\n",
       "\n",
       "    .dataframe thead th {\n",
       "        text-align: right;\n",
       "    }\n",
       "</style>\n",
       "<table border=\"1\" class=\"dataframe\">\n",
       "  <thead>\n",
       "    <tr style=\"text-align: right;\">\n",
       "      <th></th>\n",
       "      <th>STREET TYPE_one</th>\n",
       "      <th>STREET BASE_one</th>\n",
       "      <th>STREET BASE &amp; ZIP</th>\n",
       "      <th>STREET TYPE_two</th>\n",
       "      <th>STREET BASE_two</th>\n",
       "    </tr>\n",
       "  </thead>\n",
       "  <tbody>\n",
       "    <tr>\n",
       "      <th>1</th>\n",
       "      <td>AVENUE</td>\n",
       "      <td>FLATBUSH</td>\n",
       "      <td>FLATBUSH 11225</td>\n",
       "      <td>AVE</td>\n",
       "      <td>FLATBUSH</td>\n",
       "    </tr>\n",
       "    <tr>\n",
       "      <th>2</th>\n",
       "      <td>AVE</td>\n",
       "      <td>FLATBUSH</td>\n",
       "      <td>FLATBUSH 11225</td>\n",
       "      <td>AVENUE</td>\n",
       "      <td>FLATBUSH</td>\n",
       "    </tr>\n",
       "    <tr>\n",
       "      <th>5</th>\n",
       "      <td>ROAD</td>\n",
       "      <td>63</td>\n",
       "      <td>63 11374</td>\n",
       "      <td>DRIVE</td>\n",
       "      <td>63</td>\n",
       "    </tr>\n",
       "    <tr>\n",
       "      <th>6</th>\n",
       "      <td>DRIVE</td>\n",
       "      <td>63</td>\n",
       "      <td>63 11374</td>\n",
       "      <td>ROAD</td>\n",
       "      <td>63</td>\n",
       "    </tr>\n",
       "    <tr>\n",
       "      <th>12</th>\n",
       "      <td>AVENUE</td>\n",
       "      <td>CHURCH</td>\n",
       "      <td>CHURCH 11218</td>\n",
       "      <td>AVE</td>\n",
       "      <td>CHURCH</td>\n",
       "    </tr>\n",
       "  </tbody>\n",
       "</table>\n",
       "</div>"
      ],
      "text/plain": [
       "   STREET TYPE_one STREET BASE_one STREET BASE & ZIP STREET TYPE_two  \\\n",
       "1           AVENUE        FLATBUSH    FLATBUSH 11225             AVE   \n",
       "2              AVE        FLATBUSH    FLATBUSH 11225          AVENUE   \n",
       "5             ROAD              63          63 11374           DRIVE   \n",
       "6            DRIVE              63          63 11374            ROAD   \n",
       "12          AVENUE          CHURCH      CHURCH 11218             AVE   \n",
       "\n",
       "   STREET BASE_two  \n",
       "1         FLATBUSH  \n",
       "2         FLATBUSH  \n",
       "5               63  \n",
       "6               63  \n",
       "12          CHURCH  "
      ]
     },
     "execution_count": 23,
     "metadata": {},
     "output_type": "execute_result"
    }
   ],
   "source": [
    "#rows where street types are different \n",
    "mask = merge_street_zip['STREET TYPE_one'] != merge_street_zip['STREET TYPE_two']\n",
    "mask_street = merge_street_zip[mask]\n",
    "mask_street[:5]"
   ]
  },
  {
   "cell_type": "code",
   "execution_count": 17,
   "metadata": {},
   "outputs": [
    {
     "data": {
      "text/html": [
       "<div>\n",
       "<style scoped>\n",
       "    .dataframe tbody tr th:only-of-type {\n",
       "        vertical-align: middle;\n",
       "    }\n",
       "\n",
       "    .dataframe tbody tr th {\n",
       "        vertical-align: top;\n",
       "    }\n",
       "\n",
       "    .dataframe thead th {\n",
       "        text-align: right;\n",
       "    }\n",
       "</style>\n",
       "<table border=\"1\" class=\"dataframe\">\n",
       "  <thead>\n",
       "    <tr style=\"text-align: right;\">\n",
       "      <th>STREET TYPE_two</th>\n",
       "      <th>A</th>\n",
       "      <th>AAVENUE</th>\n",
       "      <th>AIRPOR</th>\n",
       "      <th>AIRPORT</th>\n",
       "      <th>AVE</th>\n",
       "      <th>AVENUE</th>\n",
       "      <th>AVEUE</th>\n",
       "      <th>B</th>\n",
       "      <th>BLVD</th>\n",
       "      <th>BOULEARD</th>\n",
       "      <th>...</th>\n",
       "      <th>SW</th>\n",
       "      <th>TERMINAL</th>\n",
       "      <th>TPKE</th>\n",
       "      <th>TURNPIKE</th>\n",
       "      <th>U</th>\n",
       "      <th>V</th>\n",
       "      <th>W</th>\n",
       "      <th>WEST</th>\n",
       "      <th>X</th>\n",
       "      <th>Z</th>\n",
       "    </tr>\n",
       "    <tr>\n",
       "      <th>STREET TYPE_one</th>\n",
       "      <th></th>\n",
       "      <th></th>\n",
       "      <th></th>\n",
       "      <th></th>\n",
       "      <th></th>\n",
       "      <th></th>\n",
       "      <th></th>\n",
       "      <th></th>\n",
       "      <th></th>\n",
       "      <th></th>\n",
       "      <th></th>\n",
       "      <th></th>\n",
       "      <th></th>\n",
       "      <th></th>\n",
       "      <th></th>\n",
       "      <th></th>\n",
       "      <th></th>\n",
       "      <th></th>\n",
       "      <th></th>\n",
       "      <th></th>\n",
       "      <th></th>\n",
       "    </tr>\n",
       "  </thead>\n",
       "  <tbody>\n",
       "    <tr>\n",
       "      <th>A</th>\n",
       "      <td>0</td>\n",
       "      <td>0</td>\n",
       "      <td>0</td>\n",
       "      <td>0</td>\n",
       "      <td>0</td>\n",
       "      <td>0</td>\n",
       "      <td>0</td>\n",
       "      <td>2</td>\n",
       "      <td>0</td>\n",
       "      <td>0</td>\n",
       "      <td>...</td>\n",
       "      <td>0</td>\n",
       "      <td>0</td>\n",
       "      <td>0</td>\n",
       "      <td>0</td>\n",
       "      <td>0</td>\n",
       "      <td>0</td>\n",
       "      <td>0</td>\n",
       "      <td>0</td>\n",
       "      <td>0</td>\n",
       "      <td>0</td>\n",
       "    </tr>\n",
       "    <tr>\n",
       "      <th>AAVENUE</th>\n",
       "      <td>0</td>\n",
       "      <td>0</td>\n",
       "      <td>0</td>\n",
       "      <td>0</td>\n",
       "      <td>1</td>\n",
       "      <td>1</td>\n",
       "      <td>0</td>\n",
       "      <td>0</td>\n",
       "      <td>0</td>\n",
       "      <td>0</td>\n",
       "      <td>...</td>\n",
       "      <td>0</td>\n",
       "      <td>0</td>\n",
       "      <td>0</td>\n",
       "      <td>0</td>\n",
       "      <td>0</td>\n",
       "      <td>0</td>\n",
       "      <td>0</td>\n",
       "      <td>0</td>\n",
       "      <td>0</td>\n",
       "      <td>0</td>\n",
       "    </tr>\n",
       "    <tr>\n",
       "      <th>AIRPOR</th>\n",
       "      <td>0</td>\n",
       "      <td>0</td>\n",
       "      <td>0</td>\n",
       "      <td>1</td>\n",
       "      <td>0</td>\n",
       "      <td>0</td>\n",
       "      <td>0</td>\n",
       "      <td>0</td>\n",
       "      <td>0</td>\n",
       "      <td>0</td>\n",
       "      <td>...</td>\n",
       "      <td>0</td>\n",
       "      <td>0</td>\n",
       "      <td>0</td>\n",
       "      <td>0</td>\n",
       "      <td>0</td>\n",
       "      <td>0</td>\n",
       "      <td>0</td>\n",
       "      <td>0</td>\n",
       "      <td>0</td>\n",
       "      <td>0</td>\n",
       "    </tr>\n",
       "    <tr>\n",
       "      <th>AIRPORT</th>\n",
       "      <td>0</td>\n",
       "      <td>0</td>\n",
       "      <td>1</td>\n",
       "      <td>0</td>\n",
       "      <td>0</td>\n",
       "      <td>0</td>\n",
       "      <td>0</td>\n",
       "      <td>0</td>\n",
       "      <td>0</td>\n",
       "      <td>0</td>\n",
       "      <td>...</td>\n",
       "      <td>0</td>\n",
       "      <td>0</td>\n",
       "      <td>0</td>\n",
       "      <td>0</td>\n",
       "      <td>0</td>\n",
       "      <td>0</td>\n",
       "      <td>0</td>\n",
       "      <td>0</td>\n",
       "      <td>0</td>\n",
       "      <td>0</td>\n",
       "    </tr>\n",
       "    <tr>\n",
       "      <th>AVE</th>\n",
       "      <td>0</td>\n",
       "      <td>1</td>\n",
       "      <td>0</td>\n",
       "      <td>0</td>\n",
       "      <td>0</td>\n",
       "      <td>163</td>\n",
       "      <td>0</td>\n",
       "      <td>0</td>\n",
       "      <td>0</td>\n",
       "      <td>0</td>\n",
       "      <td>...</td>\n",
       "      <td>0</td>\n",
       "      <td>0</td>\n",
       "      <td>0</td>\n",
       "      <td>0</td>\n",
       "      <td>0</td>\n",
       "      <td>0</td>\n",
       "      <td>0</td>\n",
       "      <td>0</td>\n",
       "      <td>0</td>\n",
       "      <td>0</td>\n",
       "    </tr>\n",
       "    <tr>\n",
       "      <th>AVENUE</th>\n",
       "      <td>0</td>\n",
       "      <td>1</td>\n",
       "      <td>0</td>\n",
       "      <td>0</td>\n",
       "      <td>163</td>\n",
       "      <td>0</td>\n",
       "      <td>1</td>\n",
       "      <td>0</td>\n",
       "      <td>0</td>\n",
       "      <td>0</td>\n",
       "      <td>...</td>\n",
       "      <td>0</td>\n",
       "      <td>0</td>\n",
       "      <td>0</td>\n",
       "      <td>0</td>\n",
       "      <td>0</td>\n",
       "      <td>0</td>\n",
       "      <td>0</td>\n",
       "      <td>0</td>\n",
       "      <td>0</td>\n",
       "      <td>0</td>\n",
       "    </tr>\n",
       "    <tr>\n",
       "      <th>AVEUE</th>\n",
       "      <td>0</td>\n",
       "      <td>0</td>\n",
       "      <td>0</td>\n",
       "      <td>0</td>\n",
       "      <td>0</td>\n",
       "      <td>1</td>\n",
       "      <td>0</td>\n",
       "      <td>0</td>\n",
       "      <td>0</td>\n",
       "      <td>0</td>\n",
       "      <td>...</td>\n",
       "      <td>0</td>\n",
       "      <td>0</td>\n",
       "      <td>0</td>\n",
       "      <td>0</td>\n",
       "      <td>0</td>\n",
       "      <td>0</td>\n",
       "      <td>0</td>\n",
       "      <td>0</td>\n",
       "      <td>0</td>\n",
       "      <td>0</td>\n",
       "    </tr>\n",
       "    <tr>\n",
       "      <th>B</th>\n",
       "      <td>2</td>\n",
       "      <td>0</td>\n",
       "      <td>0</td>\n",
       "      <td>0</td>\n",
       "      <td>0</td>\n",
       "      <td>0</td>\n",
       "      <td>0</td>\n",
       "      <td>0</td>\n",
       "      <td>0</td>\n",
       "      <td>0</td>\n",
       "      <td>...</td>\n",
       "      <td>0</td>\n",
       "      <td>0</td>\n",
       "      <td>0</td>\n",
       "      <td>0</td>\n",
       "      <td>0</td>\n",
       "      <td>0</td>\n",
       "      <td>0</td>\n",
       "      <td>0</td>\n",
       "      <td>0</td>\n",
       "      <td>0</td>\n",
       "    </tr>\n",
       "    <tr>\n",
       "      <th>BLVD</th>\n",
       "      <td>0</td>\n",
       "      <td>0</td>\n",
       "      <td>0</td>\n",
       "      <td>0</td>\n",
       "      <td>0</td>\n",
       "      <td>0</td>\n",
       "      <td>0</td>\n",
       "      <td>0</td>\n",
       "      <td>0</td>\n",
       "      <td>1</td>\n",
       "      <td>...</td>\n",
       "      <td>0</td>\n",
       "      <td>0</td>\n",
       "      <td>0</td>\n",
       "      <td>0</td>\n",
       "      <td>0</td>\n",
       "      <td>0</td>\n",
       "      <td>0</td>\n",
       "      <td>0</td>\n",
       "      <td>0</td>\n",
       "      <td>0</td>\n",
       "    </tr>\n",
       "    <tr>\n",
       "      <th>BOULEARD</th>\n",
       "      <td>0</td>\n",
       "      <td>0</td>\n",
       "      <td>0</td>\n",
       "      <td>0</td>\n",
       "      <td>0</td>\n",
       "      <td>0</td>\n",
       "      <td>0</td>\n",
       "      <td>0</td>\n",
       "      <td>1</td>\n",
       "      <td>0</td>\n",
       "      <td>...</td>\n",
       "      <td>0</td>\n",
       "      <td>0</td>\n",
       "      <td>0</td>\n",
       "      <td>0</td>\n",
       "      <td>0</td>\n",
       "      <td>0</td>\n",
       "      <td>0</td>\n",
       "      <td>0</td>\n",
       "      <td>0</td>\n",
       "      <td>0</td>\n",
       "    </tr>\n",
       "    <tr>\n",
       "      <th>BOULEVARD</th>\n",
       "      <td>0</td>\n",
       "      <td>0</td>\n",
       "      <td>0</td>\n",
       "      <td>0</td>\n",
       "      <td>0</td>\n",
       "      <td>0</td>\n",
       "      <td>0</td>\n",
       "      <td>0</td>\n",
       "      <td>49</td>\n",
       "      <td>1</td>\n",
       "      <td>...</td>\n",
       "      <td>0</td>\n",
       "      <td>0</td>\n",
       "      <td>0</td>\n",
       "      <td>0</td>\n",
       "      <td>0</td>\n",
       "      <td>0</td>\n",
       "      <td>0</td>\n",
       "      <td>0</td>\n",
       "      <td>0</td>\n",
       "      <td>0</td>\n",
       "    </tr>\n",
       "    <tr>\n",
       "      <th>BULEVARD</th>\n",
       "      <td>0</td>\n",
       "      <td>0</td>\n",
       "      <td>0</td>\n",
       "      <td>0</td>\n",
       "      <td>0</td>\n",
       "      <td>0</td>\n",
       "      <td>0</td>\n",
       "      <td>0</td>\n",
       "      <td>1</td>\n",
       "      <td>0</td>\n",
       "      <td>...</td>\n",
       "      <td>0</td>\n",
       "      <td>0</td>\n",
       "      <td>0</td>\n",
       "      <td>0</td>\n",
       "      <td>0</td>\n",
       "      <td>0</td>\n",
       "      <td>0</td>\n",
       "      <td>0</td>\n",
       "      <td>0</td>\n",
       "      <td>0</td>\n",
       "    </tr>\n",
       "    <tr>\n",
       "      <th>C</th>\n",
       "      <td>1</td>\n",
       "      <td>0</td>\n",
       "      <td>0</td>\n",
       "      <td>0</td>\n",
       "      <td>0</td>\n",
       "      <td>0</td>\n",
       "      <td>0</td>\n",
       "      <td>1</td>\n",
       "      <td>0</td>\n",
       "      <td>0</td>\n",
       "      <td>...</td>\n",
       "      <td>0</td>\n",
       "      <td>0</td>\n",
       "      <td>0</td>\n",
       "      <td>0</td>\n",
       "      <td>0</td>\n",
       "      <td>0</td>\n",
       "      <td>0</td>\n",
       "      <td>0</td>\n",
       "      <td>0</td>\n",
       "      <td>0</td>\n",
       "    </tr>\n",
       "    <tr>\n",
       "      <th>CENTER</th>\n",
       "      <td>0</td>\n",
       "      <td>0</td>\n",
       "      <td>0</td>\n",
       "      <td>0</td>\n",
       "      <td>0</td>\n",
       "      <td>0</td>\n",
       "      <td>0</td>\n",
       "      <td>0</td>\n",
       "      <td>0</td>\n",
       "      <td>0</td>\n",
       "      <td>...</td>\n",
       "      <td>0</td>\n",
       "      <td>0</td>\n",
       "      <td>0</td>\n",
       "      <td>0</td>\n",
       "      <td>0</td>\n",
       "      <td>0</td>\n",
       "      <td>0</td>\n",
       "      <td>0</td>\n",
       "      <td>0</td>\n",
       "      <td>0</td>\n",
       "    </tr>\n",
       "    <tr>\n",
       "      <th>D</th>\n",
       "      <td>1</td>\n",
       "      <td>0</td>\n",
       "      <td>0</td>\n",
       "      <td>0</td>\n",
       "      <td>0</td>\n",
       "      <td>0</td>\n",
       "      <td>0</td>\n",
       "      <td>1</td>\n",
       "      <td>0</td>\n",
       "      <td>0</td>\n",
       "      <td>...</td>\n",
       "      <td>0</td>\n",
       "      <td>0</td>\n",
       "      <td>0</td>\n",
       "      <td>0</td>\n",
       "      <td>0</td>\n",
       "      <td>0</td>\n",
       "      <td>0</td>\n",
       "      <td>0</td>\n",
       "      <td>0</td>\n",
       "      <td>0</td>\n",
       "    </tr>\n",
       "    <tr>\n",
       "      <th>DR</th>\n",
       "      <td>0</td>\n",
       "      <td>0</td>\n",
       "      <td>0</td>\n",
       "      <td>0</td>\n",
       "      <td>0</td>\n",
       "      <td>0</td>\n",
       "      <td>0</td>\n",
       "      <td>0</td>\n",
       "      <td>0</td>\n",
       "      <td>0</td>\n",
       "      <td>...</td>\n",
       "      <td>0</td>\n",
       "      <td>0</td>\n",
       "      <td>0</td>\n",
       "      <td>0</td>\n",
       "      <td>0</td>\n",
       "      <td>0</td>\n",
       "      <td>0</td>\n",
       "      <td>0</td>\n",
       "      <td>0</td>\n",
       "      <td>0</td>\n",
       "    </tr>\n",
       "    <tr>\n",
       "      <th>DRIVE</th>\n",
       "      <td>0</td>\n",
       "      <td>0</td>\n",
       "      <td>0</td>\n",
       "      <td>0</td>\n",
       "      <td>0</td>\n",
       "      <td>0</td>\n",
       "      <td>0</td>\n",
       "      <td>0</td>\n",
       "      <td>0</td>\n",
       "      <td>0</td>\n",
       "      <td>...</td>\n",
       "      <td>0</td>\n",
       "      <td>0</td>\n",
       "      <td>0</td>\n",
       "      <td>0</td>\n",
       "      <td>0</td>\n",
       "      <td>0</td>\n",
       "      <td>0</td>\n",
       "      <td>0</td>\n",
       "      <td>0</td>\n",
       "      <td>0</td>\n",
       "    </tr>\n",
       "    <tr>\n",
       "      <th>EAST</th>\n",
       "      <td>0</td>\n",
       "      <td>0</td>\n",
       "      <td>0</td>\n",
       "      <td>0</td>\n",
       "      <td>0</td>\n",
       "      <td>0</td>\n",
       "      <td>0</td>\n",
       "      <td>0</td>\n",
       "      <td>0</td>\n",
       "      <td>0</td>\n",
       "      <td>...</td>\n",
       "      <td>0</td>\n",
       "      <td>0</td>\n",
       "      <td>0</td>\n",
       "      <td>0</td>\n",
       "      <td>0</td>\n",
       "      <td>0</td>\n",
       "      <td>0</td>\n",
       "      <td>1</td>\n",
       "      <td>0</td>\n",
       "      <td>0</td>\n",
       "    </tr>\n",
       "    <tr>\n",
       "      <th>EXPRESS</th>\n",
       "      <td>0</td>\n",
       "      <td>0</td>\n",
       "      <td>0</td>\n",
       "      <td>0</td>\n",
       "      <td>0</td>\n",
       "      <td>0</td>\n",
       "      <td>0</td>\n",
       "      <td>0</td>\n",
       "      <td>0</td>\n",
       "      <td>0</td>\n",
       "      <td>...</td>\n",
       "      <td>0</td>\n",
       "      <td>0</td>\n",
       "      <td>0</td>\n",
       "      <td>0</td>\n",
       "      <td>0</td>\n",
       "      <td>0</td>\n",
       "      <td>0</td>\n",
       "      <td>0</td>\n",
       "      <td>0</td>\n",
       "      <td>0</td>\n",
       "    </tr>\n",
       "    <tr>\n",
       "      <th>EXPRESSWAY</th>\n",
       "      <td>0</td>\n",
       "      <td>0</td>\n",
       "      <td>0</td>\n",
       "      <td>0</td>\n",
       "      <td>0</td>\n",
       "      <td>0</td>\n",
       "      <td>0</td>\n",
       "      <td>0</td>\n",
       "      <td>0</td>\n",
       "      <td>0</td>\n",
       "      <td>...</td>\n",
       "      <td>0</td>\n",
       "      <td>0</td>\n",
       "      <td>0</td>\n",
       "      <td>0</td>\n",
       "      <td>0</td>\n",
       "      <td>0</td>\n",
       "      <td>0</td>\n",
       "      <td>0</td>\n",
       "      <td>0</td>\n",
       "      <td>0</td>\n",
       "    </tr>\n",
       "  </tbody>\n",
       "</table>\n",
       "<p>20 rows × 66 columns</p>\n",
       "</div>"
      ],
      "text/plain": [
       "STREET TYPE_two  A  AAVENUE  AIRPOR  AIRPORT  AVE  AVENUE  AVEUE  B  BLVD  \\\n",
       "STREET TYPE_one                                                             \n",
       "A                0        0       0        0    0       0      0  2     0   \n",
       "AAVENUE          0        0       0        0    1       1      0  0     0   \n",
       "AIRPOR           0        0       0        1    0       0      0  0     0   \n",
       "AIRPORT          0        0       1        0    0       0      0  0     0   \n",
       "AVE              0        1       0        0    0     163      0  0     0   \n",
       "AVENUE           0        1       0        0  163       0      1  0     0   \n",
       "AVEUE            0        0       0        0    0       1      0  0     0   \n",
       "B                2        0       0        0    0       0      0  0     0   \n",
       "BLVD             0        0       0        0    0       0      0  0     0   \n",
       "BOULEARD         0        0       0        0    0       0      0  0     1   \n",
       "BOULEVARD        0        0       0        0    0       0      0  0    49   \n",
       "BULEVARD         0        0       0        0    0       0      0  0     1   \n",
       "C                1        0       0        0    0       0      0  1     0   \n",
       "CENTER           0        0       0        0    0       0      0  0     0   \n",
       "D                1        0       0        0    0       0      0  1     0   \n",
       "DR               0        0       0        0    0       0      0  0     0   \n",
       "DRIVE            0        0       0        0    0       0      0  0     0   \n",
       "EAST             0        0       0        0    0       0      0  0     0   \n",
       "EXPRESS          0        0       0        0    0       0      0  0     0   \n",
       "EXPRESSWAY       0        0       0        0    0       0      0  0     0   \n",
       "\n",
       "STREET TYPE_two  BOULEARD  ...  SW  TERMINAL  TPKE  TURNPIKE  U  V  W  WEST  \\\n",
       "STREET TYPE_one            ...                                                \n",
       "A                       0  ...   0         0     0         0  0  0  0     0   \n",
       "AAVENUE                 0  ...   0         0     0         0  0  0  0     0   \n",
       "AIRPOR                  0  ...   0         0     0         0  0  0  0     0   \n",
       "AIRPORT                 0  ...   0         0     0         0  0  0  0     0   \n",
       "AVE                     0  ...   0         0     0         0  0  0  0     0   \n",
       "AVENUE                  0  ...   0         0     0         0  0  0  0     0   \n",
       "AVEUE                   0  ...   0         0     0         0  0  0  0     0   \n",
       "B                       0  ...   0         0     0         0  0  0  0     0   \n",
       "BLVD                    1  ...   0         0     0         0  0  0  0     0   \n",
       "BOULEARD                0  ...   0         0     0         0  0  0  0     0   \n",
       "BOULEVARD               1  ...   0         0     0         0  0  0  0     0   \n",
       "BULEVARD                0  ...   0         0     0         0  0  0  0     0   \n",
       "C                       0  ...   0         0     0         0  0  0  0     0   \n",
       "CENTER                  0  ...   0         0     0         0  0  0  0     0   \n",
       "D                       0  ...   0         0     0         0  0  0  0     0   \n",
       "DR                      0  ...   0         0     0         0  0  0  0     0   \n",
       "DRIVE                   0  ...   0         0     0         0  0  0  0     0   \n",
       "EAST                    0  ...   0         0     0         0  0  0  0     1   \n",
       "EXPRESS                 0  ...   0         0     0         0  0  0  0     0   \n",
       "EXPRESSWAY              0  ...   0         0     0         0  0  0  0     0   \n",
       "\n",
       "STREET TYPE_two  X  Z  \n",
       "STREET TYPE_one        \n",
       "A                0  0  \n",
       "AAVENUE          0  0  \n",
       "AIRPOR           0  0  \n",
       "AIRPORT          0  0  \n",
       "AVE              0  0  \n",
       "AVENUE           0  0  \n",
       "AVEUE            0  0  \n",
       "B                0  0  \n",
       "BLVD             0  0  \n",
       "BOULEARD         0  0  \n",
       "BOULEVARD        0  0  \n",
       "BULEVARD         0  0  \n",
       "C                0  0  \n",
       "CENTER           0  0  \n",
       "D                0  0  \n",
       "DR               0  0  \n",
       "DRIVE            0  0  \n",
       "EAST             0  0  \n",
       "EXPRESS          0  0  \n",
       "EXPRESSWAY       0  0  \n",
       "\n",
       "[20 rows x 66 columns]"
      ]
     },
     "execution_count": 17,
     "metadata": {},
     "output_type": "execute_result"
    }
   ],
   "source": [
    "#cross-tab of distinct street types \n",
    "street_crstbl = pd.crosstab(mask_street['STREET TYPE_one'], mask_street['STREET TYPE_two'])\n",
    "street_crstbl[:20]"
   ]
  },
  {
   "cell_type": "code",
   "execution_count": 18,
   "metadata": {},
   "outputs": [
    {
     "name": "stdout",
     "output_type": "stream",
     "text": [
      "AVENUE\n",
      "STREET\n",
      "ROAD\n",
      "PLACE\n",
      "BLVD\n",
      "BLVD\n"
     ]
    }
   ],
   "source": [
    "#most commonly used street type\n",
    "print(street_crstbl['AVE'].idxmax())\n",
    "print(street_crstbl['ST'].idxmax())\n",
    "print(street_crstbl['RD'].idxmax())\n",
    "print(street_crstbl['PL'].idxmax())\n",
    "print(street_crstbl['BOULEARD'].idxmax())\n",
    "print(street_crstbl['BULEVARD'].idxmax())"
   ]
  }
 ],
 "metadata": {
  "kernelspec": {
   "display_name": "Python 3",
   "language": "python",
   "name": "python3"
  },
  "language_info": {
   "codemirror_mode": {
    "name": "ipython",
    "version": 3
   },
   "file_extension": ".py",
   "mimetype": "text/x-python",
   "name": "python",
   "nbconvert_exporter": "python",
   "pygments_lexer": "ipython3",
   "version": "3.7.6"
  }
 },
 "nbformat": 4,
 "nbformat_minor": 4
}
